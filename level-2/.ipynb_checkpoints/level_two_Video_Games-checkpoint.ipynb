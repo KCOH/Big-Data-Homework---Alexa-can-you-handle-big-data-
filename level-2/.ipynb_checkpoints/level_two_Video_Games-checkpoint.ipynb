{
 "cells": [
  {
   "cell_type": "code",
   "execution_count": null,
   "metadata": {
    "colab": {
     "base_uri": "https://localhost:8080/"
    },
    "id": "-nwzxq5q4Ole",
    "outputId": "ce9936d4-db1a-4913-901d-20be0bcb2f3e"
   },
   "outputs": [
    {
     "name": "stderr",
     "output_type": "stream",
     "text": [
      "'apt-get' is not recognized as an internal or external command,\n",
      "operable program or batch file.\n",
      "The system cannot find the path specified.\n",
      "'wget' is not recognized as an internal or external command,\n",
      "operable program or batch file.\n",
      "tar: $SPARK_VERSION-bin-$HADOOP_VERSION.tgz: Cannot open: No such file or directory\n",
      "tar: Error is not recoverable: exiting now\n"
     ]
    }
   ],
   "source": [
    "import os\n",
    "# Find the latest version of spark 3.0  from http://www-us.apache.org/dist/spark/ and enter as the spark version\n",
    "# For example:\n",
    "# spark_version = 'spark-3.0.1'\n",
    "spark_version = 'spark-3.0.2'\n",
    "jdk_version = '11'\n",
    "hadoop_version = 'hadoop2.7'\n",
    "\n",
    "# Set Environment Variables\n",
    "os.environ['SPARK_VERSION'] = spark_version\n",
    "os.environ['JDK_VERSION'] = jdk_version\n",
    "os.environ['HADOOP_VERSION'] = hadoop_version\n",
    "os.environ['JAVA_HOME'] = f'/usr/lib/jvm/java-{jdk_version}-openjdk-amd64'\n",
    "os.environ['SPARK_HOME'] = f'/content/{spark_version}-bin-{hadoop_version}'\n",
    "\n",
    "# Update modules and install Spark and Java\n",
    "!apt-get update\n",
    "!apt-get install openjdk-$JDK_VERSION-jdk-headless -qq > /dev/null\n",
    "!wget -q https://archive.apache.org/dist/spark/$SPARK_VERSION/$SPARK_VERSION-bin-$HADOOP_VERSION.tgz\n",
    "!tar xf $SPARK_VERSION-bin-$HADOOP_VERSION.tgz\n",
    "!pip install -q findspark\n",
    "\n",
    "# Start a SparkSession\n",
    "import findspark\n",
    "findspark.init()"
   ]
  },
  {
   "cell_type": "code",
   "execution_count": null,
   "metadata": {
    "id": "hr12wJ8J4Sy9"
   },
   "outputs": [],
   "source": [
    "from pyspark.sql import SparkSession\n",
    "spark = SparkSession.builder.appName(\"Level-Two-Starter-Code\").getOrCreate()"
   ]
  },
  {
   "cell_type": "markdown",
   "metadata": {
    "id": "1sDjdLAA4lHw"
   },
   "source": [
    "# Load Amazon Data into Spark DataFrame"
   ]
  },
  {
   "cell_type": "code",
   "execution_count": null,
   "metadata": {
    "colab": {
     "base_uri": "https://localhost:8080/"
    },
    "id": "dCzwVUj74iFl",
    "outputId": "11b51489-5b36-4d17-d897-922fba19cfa0"
   },
   "outputs": [],
   "source": [
    "from pyspark import SparkFiles\n",
    "raw_data_file = \"amazon_reviews_us_Video_Games_v1_00.tsv.gz\"\n",
    "url = \"https://s3.amazonaws.com/amazon-reviews-pds/tsv/\" + raw_data_file\n",
    "spark.sparkContext.addFile(url)\n",
    "# Read and show the data\n",
    "# Read and show the data\n",
    "df = spark.read.csv(SparkFiles.get(\"amazon_reviews_us_Video_Games_v1_00.tsv.gz\"), sep=\"\\t\", header=True)\n",
    "\n",
    "df.show(5)"
   ]
  },
  {
   "cell_type": "markdown",
   "metadata": {
    "id": "wYvHpYMO4os_"
   },
   "source": [
    "# Filter by Votes"
   ]
  },
  {
   "cell_type": "code",
   "execution_count": null,
   "metadata": {
    "colab": {
     "base_uri": "https://localhost:8080/"
    },
    "id": "L0E9xDOuJmbP",
    "outputId": "3426a9dc-eb2e-4a06-b866-c91e94528858"
   },
   "outputs": [],
   "source": [
    "# Filter for greater than 20 total votes\n",
    "from pyspark.sql.functions import col\n",
    "cleaned_df = df.filter(col(\"total_votes\")  >=20)\n",
    "cleaned_df.show()"
   ]
  },
  {
   "cell_type": "code",
   "execution_count": null,
   "metadata": {
    "colab": {
     "base_uri": "https://localhost:8080/"
    },
    "id": "6QEk2nbcJBbz",
    "outputId": "f237ee3b-22e6-4816-e1a3-99b43fe32bd2"
   },
   "outputs": [],
   "source": [
    "# Filter for greater than 50% helpful vote percentage\n",
    "cleaned_df = df.filter(col(\"helpful_votes\")  >=50)\n",
    "cleaned_df.show()"
   ]
  },
  {
   "cell_type": "markdown",
   "metadata": {
    "id": "AlnzTsVZ4tvT"
   },
   "source": [
    "# Describe Stats"
   ]
  },
  {
   "cell_type": "code",
   "execution_count": null,
   "metadata": {
    "colab": {
     "base_uri": "https://localhost:8080/"
    },
    "id": "R4roMyzgJh29",
    "outputId": "d14cb889-805e-4cb3-e2d9-14c4afc1f3d7"
   },
   "outputs": [],
   "source": [
    "# Paid reviews\n",
    "from pyspark.sql.functions import col, avg\n",
    "paid_df = cleaned_df.filter(cleaned_df['vine']== 'Y')\n",
    "paid_df.describe().show(5)"
   ]
  },
  {
   "cell_type": "code",
   "execution_count": null,
   "metadata": {
    "colab": {
     "base_uri": "https://localhost:8080/"
    },
    "id": "o5qu-sPf7k-d",
    "outputId": "c2af1198-1d3f-4022-958f-053029138cca"
   },
   "outputs": [],
   "source": [
    "# Unpaid reviews\n",
    "unpaid_df = cleaned_df.filter(cleaned_df['vine']== 'N')\n",
    "unpaid_df.describe().show(5)"
   ]
  },
  {
   "cell_type": "markdown",
   "metadata": {
    "id": "u17ssTQS4xHa"
   },
   "source": [
    "# Determine the percentage of five-star review among vine reviews"
   ]
  },
  {
   "cell_type": "code",
   "execution_count": null,
   "metadata": {
    "colab": {
     "base_uri": "https://localhost:8080/"
    },
    "id": "HSSA2Z1-40QL",
    "outputId": "5519dd4a-840d-43ab-c245-2f03477e8cb0"
   },
   "outputs": [],
   "source": [
    "# CODE HERE\n",
    "paid_five_star_number = paid_df[paid_df['star_rating']== 5].count()\n",
    "paid_number = paid_df.count()\n",
    "percentage_five_star_vine = float(paid_five_star_number) / float(paid_number)\n",
    "\n",
    "print(f'Number of paid reviews {paid_number}')\n",
    "print(f'Number of paid five star reviews {paid_five_star_number}')\n",
    "print(f'Percantage of paid reviews that are five stars {percentage_five_star_vine * 100}%')"
   ]
  },
  {
   "cell_type": "markdown",
   "metadata": {
    "id": "3L6C5S-K42bm"
   },
   "source": [
    "# Determine the percentage of five-star review among non-Vine reviews"
   ]
  },
  {
   "cell_type": "code",
   "execution_count": null,
   "metadata": {
    "colab": {
     "base_uri": "https://localhost:8080/"
    },
    "id": "93A0BkCt49Vw",
    "outputId": "5a825fdc-8f66-4f7e-d0e0-2150e4fe72e9"
   },
   "outputs": [],
   "source": [
    "# CODE HERE\n",
    "unpaid_five_star_number = unpaid_df[unpaid_df['star_rating']== 5].count()\n",
    "unpaid_number = unpaid_df.count()\n",
    "percentage_five_star_non_vine = float(unpaid_five_star_number) / float(unpaid_number)\n",
    "\n",
    "print(f'Number of unpaid reviews {unpaid_number}')\n",
    "print(f'Number of unpaid five star reviews {unpaid_five_star_number}')\n",
    "print(f'Percantage of paid reviews that are five stars {percentage_five_star_non_vine * 100}%')"
   ]
  },
  {
   "cell_type": "code",
   "execution_count": null,
   "metadata": {
    "id": "EDVIerag8qbt"
   },
   "outputs": [],
   "source": []
  }
 ],
 "metadata": {
  "colab": {
   "collapsed_sections": [],
   "name": "level_two_starter_code.ipynb",
   "provenance": []
  },
  "kernelspec": {
   "display_name": "Python 3",
   "language": "python",
   "name": "python3"
  },
  "language_info": {
   "codemirror_mode": {
    "name": "ipython",
    "version": 3
   },
   "file_extension": ".py",
   "mimetype": "text/x-python",
   "name": "python",
   "nbconvert_exporter": "python",
   "pygments_lexer": "ipython3",
   "version": "3.8.8"
  }
 },
 "nbformat": 4,
 "nbformat_minor": 1
}
