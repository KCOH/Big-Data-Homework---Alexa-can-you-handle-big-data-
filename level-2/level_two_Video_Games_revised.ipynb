{
  "nbformat": 4,
  "nbformat_minor": 0,
  "metadata": {
    "colab": {
      "name": "level_two_Video_Games_revised.ipynb",
      "provenance": [],
      "collapsed_sections": []
    },
    "kernelspec": {
      "display_name": "Python 3",
      "language": "python",
      "name": "python3"
    },
    "language_info": {
      "codemirror_mode": {
        "name": "ipython",
        "version": 3
      },
      "file_extension": ".py",
      "mimetype": "text/x-python",
      "name": "python",
      "nbconvert_exporter": "python",
      "pygments_lexer": "ipython3",
      "version": "3.8.5"
    }
  },
  "cells": [
    {
      "cell_type": "code",
      "metadata": {
        "id": "-nwzxq5q4Ole",
        "colab": {
          "base_uri": "https://localhost:8080/"
        },
        "outputId": "b57a88cc-1985-470f-d0fb-ac36b5ffe96e"
      },
      "source": [
        "import os\n",
        "# Find the latest version of spark 3.0  from http://www-us.apache.org/dist/spark/ and enter as the spark version\n",
        "# For example:\n",
        "# spark_version = 'spark-3.0.1'\n",
        "spark_version = 'spark-3.0.1'\n",
        "jdk_version = '11'\n",
        "hadoop_version = 'hadoop2.7'\n",
        "\n",
        "# Set Environment Variables\n",
        "os.environ['SPARK_VERSION'] = spark_version\n",
        "os.environ['JDK_VERSION'] = jdk_version\n",
        "os.environ['HADOOP_VERSION'] = hadoop_version\n",
        "os.environ['JAVA_HOME'] = f'/usr/lib/jvm/java-{jdk_version}-openjdk-amd64'\n",
        "os.environ['SPARK_HOME'] = f'/content/{spark_version}-bin-{hadoop_version}'\n",
        "\n",
        "# Update modules and install Spark and Java\n",
        "!apt-get update\n",
        "!apt-get install openjdk-$JDK_VERSION-jdk-headless -qq > /dev/null\n",
        "!wget -q https://archive.apache.org/dist/spark/$SPARK_VERSION/$SPARK_VERSION-bin-$HADOOP_VERSION.tgz\n",
        "!tar xf $SPARK_VERSION-bin-$HADOOP_VERSION.tgz\n",
        "!pip install -q findspark\n",
        "\n",
        "# Start a SparkSession\n",
        "import findspark\n",
        "findspark.init()"
      ],
      "execution_count": 1,
      "outputs": [
        {
          "output_type": "stream",
          "name": "stdout",
          "text": [
            "\r0% [Working]\r            \rIgn:1 https://developer.download.nvidia.com/compute/cuda/repos/ubuntu1804/x86_64  InRelease\n",
            "Get:2 https://cloud.r-project.org/bin/linux/ubuntu bionic-cran40/ InRelease [3,626 B]\n",
            "Ign:3 https://developer.download.nvidia.com/compute/machine-learning/repos/ubuntu1804/x86_64  InRelease\n",
            "Get:4 https://developer.download.nvidia.com/compute/cuda/repos/ubuntu1804/x86_64  Release [696 B]\n",
            "Hit:5 https://developer.download.nvidia.com/compute/machine-learning/repos/ubuntu1804/x86_64  Release\n",
            "Get:6 https://developer.download.nvidia.com/compute/cuda/repos/ubuntu1804/x86_64  Release.gpg [836 B]\n",
            "Get:7 http://security.ubuntu.com/ubuntu bionic-security InRelease [88.7 kB]\n",
            "Hit:8 http://archive.ubuntu.com/ubuntu bionic InRelease\n",
            "Get:9 http://archive.ubuntu.com/ubuntu bionic-updates InRelease [88.7 kB]\n",
            "Get:10 http://ppa.launchpad.net/c2d4u.team/c2d4u4.0+/ubuntu bionic InRelease [15.9 kB]\n",
            "Hit:12 http://ppa.launchpad.net/cran/libgit2/ubuntu bionic InRelease\n",
            "Get:13 http://archive.ubuntu.com/ubuntu bionic-backports InRelease [74.6 kB]\n",
            "Get:14 https://developer.download.nvidia.com/compute/cuda/repos/ubuntu1804/x86_64  Packages [828 kB]\n",
            "Hit:15 http://ppa.launchpad.net/deadsnakes/ppa/ubuntu bionic InRelease\n",
            "Hit:16 http://ppa.launchpad.net/graphics-drivers/ppa/ubuntu bionic InRelease\n",
            "Get:17 http://ppa.launchpad.net/c2d4u.team/c2d4u4.0+/ubuntu bionic/main Sources [1,812 kB]\n",
            "Get:18 http://security.ubuntu.com/ubuntu bionic-security/universe amd64 Packages [1,442 kB]\n",
            "Get:19 http://archive.ubuntu.com/ubuntu bionic-updates/universe amd64 Packages [2,224 kB]\n",
            "Get:20 http://security.ubuntu.com/ubuntu bionic-security/main amd64 Packages [2,430 kB]\n",
            "Get:21 http://archive.ubuntu.com/ubuntu bionic-updates/main amd64 Packages [2,868 kB]\n",
            "Get:22 http://ppa.launchpad.net/c2d4u.team/c2d4u4.0+/ubuntu bionic/main amd64 Packages [930 kB]\n",
            "Fetched 12.8 MB in 4s (3,221 kB/s)\n",
            "Reading package lists... Done\n"
          ]
        }
      ]
    },
    {
      "cell_type": "code",
      "metadata": {
        "id": "hr12wJ8J4Sy9"
      },
      "source": [
        "from pyspark.sql import SparkSession\n",
        "spark = SparkSession.builder.appName(\"Level-Two-Starter-Code\").getOrCreate()"
      ],
      "execution_count": 2,
      "outputs": []
    },
    {
      "cell_type": "markdown",
      "metadata": {
        "id": "1sDjdLAA4lHw"
      },
      "source": [
        "# Load Amazon Data into Spark DataFrame"
      ]
    },
    {
      "cell_type": "code",
      "metadata": {
        "id": "dCzwVUj74iFl",
        "colab": {
          "base_uri": "https://localhost:8080/"
        },
        "outputId": "d9c73584-f6bf-49e4-a2ef-3cab91fcec0d"
      },
      "source": [
        "from pyspark import SparkFiles\n",
        "raw_data_file = \"amazon_reviews_us_Video_Games_v1_00.tsv.gz\"\n",
        "url = \"https://s3.amazonaws.com/amazon-reviews-pds/tsv/\" + raw_data_file\n",
        "spark.sparkContext.addFile(url)\n",
        "# Read and show the data\n",
        "# Read and show the data\n",
        "df = spark.read.csv(SparkFiles.get(\"amazon_reviews_us_Video_Games_v1_00.tsv.gz\"), sep=\"\\t\", header=True)\n",
        "\n",
        "df.show(5)"
      ],
      "execution_count": 3,
      "outputs": [
        {
          "output_type": "stream",
          "name": "stdout",
          "text": [
            "+-----------+-----------+--------------+----------+--------------+--------------------+----------------+-----------+-------------+-----------+----+-----------------+--------------------+--------------------+-----------+\n",
            "|marketplace|customer_id|     review_id|product_id|product_parent|       product_title|product_category|star_rating|helpful_votes|total_votes|vine|verified_purchase|     review_headline|         review_body|review_date|\n",
            "+-----------+-----------+--------------+----------+--------------+--------------------+----------------+-----------+-------------+-----------+----+-----------------+--------------------+--------------------+-----------+\n",
            "|         US|   12039526| RTIS3L2M1F5SM|B001CXYMFS|     737716809|Thrustmaster T-Fl...|     Video Games|          5|            0|          0|   N|                Y|an amazing joysti...|Used this for Eli...| 2015-08-31|\n",
            "|         US|    9636577| R1ZV7R40OLHKD|B00M920ND6|     569686175|Tonsee 6 buttons ...|     Video Games|          5|            0|          0|   N|                Y|Definitely a sile...|Loved it,  I didn...| 2015-08-31|\n",
            "|         US|    2331478|R3BH071QLH8QMC|B0029CSOD2|      98937668|Hidden Mysteries:...|     Video Games|          1|            0|          1|   N|                Y|            One Star|poor quality work...| 2015-08-31|\n",
            "|         US|   52495923|R127K9NTSXA2YH|B00GOOSV98|      23143350|GelTabz Performan...|     Video Games|          3|            0|          0|   N|                Y|good, but could b...|nice, but tend to...| 2015-08-31|\n",
            "|         US|   14533949|R32ZWUXDJPW27Q|B00Y074JOM|     821342511|Zero Suit Samus a...|     Video Games|          4|            0|          0|   N|                Y|   Great but flawed.|Great amiibo, gre...| 2015-08-31|\n",
            "+-----------+-----------+--------------+----------+--------------+--------------------+----------------+-----------+-------------+-----------+----+-----------------+--------------------+--------------------+-----------+\n",
            "only showing top 5 rows\n",
            "\n"
          ]
        }
      ]
    },
    {
      "cell_type": "code",
      "metadata": {
        "colab": {
          "base_uri": "https://localhost:8080/"
        },
        "id": "E26dY68kIAHC",
        "outputId": "2652ae80-7348-4184-a0dc-4b513e4378c0"
      },
      "source": [
        "#  Viewing ALL CUSTOMERS on review date, customer, id, verified purchase, product title, star rating, helpful rating, total votes, and in vine program\n",
        "\n",
        "analysis_df = df.select([\"review_date\",\"customer_id\", \"verified_purchase\", \"product_title\",\"star_rating\",\"helpful_votes\",\"total_votes\", \"vine\"])\n",
        "analysis_df.show()"
      ],
      "execution_count": 4,
      "outputs": [
        {
          "output_type": "stream",
          "name": "stdout",
          "text": [
            "+-----------+-----------+-----------------+--------------------+-----------+-------------+-----------+----+\n",
            "|review_date|customer_id|verified_purchase|       product_title|star_rating|helpful_votes|total_votes|vine|\n",
            "+-----------+-----------+-----------------+--------------------+-----------+-------------+-----------+----+\n",
            "| 2015-08-31|   12039526|                Y|Thrustmaster T-Fl...|          5|            0|          0|   N|\n",
            "| 2015-08-31|    9636577|                Y|Tonsee 6 buttons ...|          5|            0|          0|   N|\n",
            "| 2015-08-31|    2331478|                Y|Hidden Mysteries:...|          1|            0|          1|   N|\n",
            "| 2015-08-31|   52495923|                Y|GelTabz Performan...|          3|            0|          0|   N|\n",
            "| 2015-08-31|   14533949|                Y|Zero Suit Samus a...|          4|            0|          0|   N|\n",
            "| 2015-08-31|    2377552|                Y|Psyclone Recharge...|          1|            0|          0|   N|\n",
            "| 2015-08-31|   17521011|                Y|Protection for yo...|          5|            0|          0|   N|\n",
            "| 2015-08-31|   19676307|                Y|   Nerf 3DS XL Armor|          5|            0|          0|   N|\n",
            "| 2015-08-31|     224068|                Y|One Piece: Pirate...|          5|            0|          0|   N|\n",
            "| 2015-08-31|   48467989|                Y|Playstation 2 Dan...|          4|            0|          0|   N|\n",
            "| 2015-08-31|     106569|                N|Metal Arms: Glitc...|          5|            0|          0|   N|\n",
            "| 2015-08-31|   48269642|                Y|72 Pin Connector ...|          1|            0|          0|   N|\n",
            "| 2015-08-31|   52738710|                Y|uDraw Gametablet ...|          2|            0|          0|   N|\n",
            "| 2015-08-31|   10556786|                Y|NBA 2K12(Covers M...|          4|            0|          0|   N|\n",
            "| 2015-08-31|    2963837|                Y|New Trigger Grips...|          1|            1|          1|   N|\n",
            "| 2015-08-31|   23092109|                Y|Xbox 360 Media Re...|          5|            0|          0|   N|\n",
            "| 2015-08-31|   23091728|                Y|Super Mario Galaxy 2|          5|            0|          0|   N|\n",
            "| 2015-08-31|   10712640|                Y|Nintendo 3DS XL -...|          5|            0|          0|   N|\n",
            "| 2015-08-31|   17455376|                Y|Captain Toad:  Tr...|          5|            0|          0|   N|\n",
            "| 2015-08-31|   14754850|                Y|Lego Batman 2: DC...|          4|            0|          0|   N|\n",
            "+-----------+-----------+-----------------+--------------------+-----------+-------------+-----------+----+\n",
            "only showing top 20 rows\n",
            "\n"
          ]
        }
      ]
    },
    {
      "cell_type": "code",
      "metadata": {
        "colab": {
          "base_uri": "https://localhost:8080/"
        },
        "id": "RbDFt3d-ILrl",
        "outputId": "b0c6aa55-73fa-4bdb-c2cd-de676f7bf3ea"
      },
      "source": [
        "# Summary statistics for ALL CUSTOMERS for star_rating, helpful votes, total votes\n",
        "summary_analysis_df = analysis_df.select([\"star_rating\",\"helpful_votes\",\"total_votes\"]).describe()\n",
        "\n",
        "print(\"Summary statistics for ALL CUSTOMERS\")\n",
        "summary_analysis_df.show()"
      ],
      "execution_count": 5,
      "outputs": [
        {
          "output_type": "stream",
          "name": "stdout",
          "text": [
            "Summary statistics for ALL CUSTOMERS\n",
            "+-------+------------------+------------------+-----------------+\n",
            "|summary|       star_rating|     helpful_votes|      total_votes|\n",
            "+-------+------------------+------------------+-----------------+\n",
            "|  count|           1785997|           1785997|          1785997|\n",
            "|   mean| 4.059892597803915|2.2593492598251843|3.757368573407458|\n",
            "| stddev|1.3558117532896532| 19.17128509230589|22.45439170150866|\n",
            "|    min|                 1|                 0|                0|\n",
            "|    max|                 5|               999|              999|\n",
            "+-------+------------------+------------------+-----------------+\n",
            "\n"
          ]
        }
      ]
    },
    {
      "cell_type": "code",
      "metadata": {
        "colab": {
          "base_uri": "https://localhost:8080/"
        },
        "id": "WMnxYG8D7Y7U",
        "outputId": "05d4c323-fcad-4449-ebbb-4c52b6197598"
      },
      "source": [
        "# Ordering Star rating wth 5 being the highest for ALL CUSTOMERS\n",
        "\n",
        "from pyspark.sql.functions import desc\n",
        "\n",
        "star_rating_df = analysis_df.orderBy(analysis_df.star_rating.desc())\n",
        "star_rating_df.show()"
      ],
      "execution_count": 6,
      "outputs": [
        {
          "output_type": "stream",
          "name": "stdout",
          "text": [
            "+-----------+-----------+-----------------+--------------------+-----------+-------------+-----------+----+\n",
            "|review_date|customer_id|verified_purchase|       product_title|star_rating|helpful_votes|total_votes|vine|\n",
            "+-----------+-----------+-----------------+--------------------+-----------+-------------+-----------+----+\n",
            "| 2015-08-31|    2322846|                Y|Component HDTV AV...|          5|            0|          0|   N|\n",
            "| 2015-08-31|   50165446|                Y|The Legend of Zel...|          5|            0|          0|   N|\n",
            "| 2015-08-31|   48880662|                Y|Wireless Stereo H...|          5|            0|          0|   N|\n",
            "| 2015-08-31|    9636577|                Y|Tonsee 6 buttons ...|          5|            0|          0|   N|\n",
            "| 2015-08-31|   10712640|                Y|      Kingdom Hearts|          5|            0|          0|   N|\n",
            "| 2015-08-31|    3014276|                Y|            Gameband|          5|            3|          7|   N|\n",
            "| 2015-08-31|   29604302|                Y|Nintendo Super Sm...|          5|            0|          0|   N|\n",
            "| 2015-08-31|   27975200|                Y|           Halo Wars|          5|            0|          0|   N|\n",
            "| 2015-08-31|   19676307|                Y|   Nerf 3DS XL Armor|          5|            0|          0|   N|\n",
            "| 2015-08-31|   47864127|                Y|Kingdom Hearts 3D...|          5|            0|          0|   N|\n",
            "| 2015-08-31|     106569|                N|Metal Arms: Glitc...|          5|            0|          0|   N|\n",
            "| 2015-08-31|   45205407|                Y|Sony PlayStation ...|          5|            0|          0|   N|\n",
            "| 2015-08-31|   23092109|                Y|Xbox 360 Media Re...|          5|            0|          0|   N|\n",
            "| 2015-08-31|     667240|                Y|    NBA Street Vol 2|          5|            0|          1|   N|\n",
            "| 2015-08-31|   10712640|                Y|Nintendo 3DS XL -...|          5|            0|          0|   N|\n",
            "| 2015-08-31|   39746001|                N|Until Dawn  - Pla...|          5|            1|          1|   N|\n",
            "| 2015-08-31|   12039526|                Y|Thrustmaster T-Fl...|          5|            0|          0|   N|\n",
            "| 2015-08-31|    4089089|                Y|           Far Cry 4|          5|            0|          0|   N|\n",
            "| 2015-08-31|    1581810|                Y|Fallout 3: Game o...|          5|            1|          1|   N|\n",
            "| 2015-08-31|   10712640|                Y|Persona Q: Shadow...|          5|            0|          0|   N|\n",
            "+-----------+-----------+-----------------+--------------------+-----------+-------------+-----------+----+\n",
            "only showing top 20 rows\n",
            "\n"
          ]
        }
      ]
    },
    {
      "cell_type": "markdown",
      "metadata": {
        "id": "wYvHpYMO4os_"
      },
      "source": [
        "# Filter by Votes"
      ]
    },
    {
      "cell_type": "code",
      "metadata": {
        "id": "L0E9xDOuJmbP",
        "colab": {
          "base_uri": "https://localhost:8080/"
        },
        "outputId": "a36f1611-6e7d-4dff-f6b7-951c1e212cae"
      },
      "source": [
        "# Filter for greater than 20 total votes\n",
        "from pyspark.sql.functions import col\n",
        "cleaned_df = df.filter(col(\"total_votes\")  >=20)\n",
        "cleaned_df.show()"
      ],
      "execution_count": 7,
      "outputs": [
        {
          "output_type": "stream",
          "name": "stdout",
          "text": [
            "+-----------+-----------+--------------+----------+--------------+--------------------+----------------+-----------+-------------+-----------+----+-----------------+--------------------+--------------------+-----------+\n",
            "|marketplace|customer_id|     review_id|product_id|product_parent|       product_title|product_category|star_rating|helpful_votes|total_votes|vine|verified_purchase|     review_headline|         review_body|review_date|\n",
            "+-----------+-----------+--------------+----------+--------------+--------------------+----------------+-----------+-------------+-----------+----+-----------------+--------------------+--------------------+-----------+\n",
            "|         US|    7142190| R4PKAZRQJJX14|B00QZLVCU0|     210935604|Valve - DOTA 2 St...|     Video Games|          1|           21|         34|   N|                N|What store doesn'...|Who pays 4 dollar...| 2015-08-31|\n",
            "|         US|    1085641|R2CI0Y288CC7E2|B00RHI62GY|     626589765|ONE PIECE Pirate ...|     Video Games|          1|           21|         35|   N|                Y|i request change ...|Yesterday i recei...| 2015-08-31|\n",
            "|         US|   34170274|R127WEQY2FM1T3|B00W435BU0|     487294121|       Madden NFL 16|     Video Games|          1|          147|        175|   N|                Y|Hot Mess. Don't Buy.|This is an absolu...| 2015-08-31|\n",
            "|         US|   35781932|R3EZ0EPYLDA34S|B00PV515DU|     986164434|Sony Borderlands ...|     Video Games|          1|           14|         31|   N|                Y|The reason that I...|I ordered this it...| 2015-08-31|\n",
            "|         US|   37932477|R2FJ94555FZH32|B00WJ0Z194|     116945357|Infinity 3.0 Star...|     Video Games|          2|           55|         60|   N|                N|Some improvements...|While Infinity 3....| 2015-08-31|\n",
            "|         US|   45782027|R1U3AR67RE273L|B00W435C0Y|     406569386|       Madden NFL 16|     Video Games|          1|           51|         65|   N|                Y|CAN'T PLAY - NO E...|I've owned a vers...| 2015-08-31|\n",
            "|         US|   26953574|R3PZOXA5X1U8KW|B00WJ0Z10S|     418299376|Infinity 3.0 Star...|     Video Games|          4|           31|         36|   N|                N|A Really Great Game!|I have never play...| 2015-08-31|\n",
            "|         US|   38235948| R6KTC1OPIOIIG|B0118GJKIW|     120888661|Xbox One 500GB Co...|     Video Games|          2|           19|         34|   N|                Y| What an experience!|When I open a pro...| 2015-08-30|\n",
            "|         US|   52553659|R36O341WWXXKNP|B00ZSJU97C|     838780144|Disney Infinity 3...|     Video Games|          5|           28|         31|   N|                N|Upgrade to Disney...|We have been play...| 2015-08-30|\n",
            "|         US|    3880600|R3GSK9MM8DNOYI|B00ZLGO5A4|     330485200|Console PS4 500 G...|     Video Games|          1|            4|         32|   N|                N|                  No|It's not even 1 T...| 2015-08-30|\n",
            "|         US|   38235948|R10LZVBLQHBVJ0|B00KAI3KW2|     289195641|Microsoft Xbox On...|     Video Games|          2|          151|        198|   N|                N| What an experience!|When I open a pro...| 2015-08-30|\n",
            "|         US|   18680918|R1VR5GLGY1GE7N|B00VE2VASY|     908454240|SmaAcc Cooling Fa...|     Video Games|          1|           49|         51|   N|                Y|If you wanted a c...|Very weak fan. Sy...| 2015-08-30|\n",
            "|         US|   51331712|R3GUUC6NT4QMCL|B0118GJKIW|     120888661|Xbox One 500GB Co...|     Video Games|          1|            5|         36|   N|                N|Gears of War Ulti...|Need an additiona...| 2015-08-30|\n",
            "|         US|   14007139|R1ZSD020RT18I5|B00MV7KVP4|      92208606|Until Dawn  - Pla...|     Video Games|          1|            7|        139|   N|                N|I am done with Sony.|What is this crap...| 2015-08-30|\n",
            "|         US|   51680383|R113X48B575ASY|B00KVR4HEC|     558590596|          Bloodborne|     Video Games|          1|           15|         45|   N|                N|This game has a g...|This game has a g...| 2015-08-30|\n",
            "|         US|     597335| RJLYLGRYH7SFQ|B00W6O8IZW|     708681587|PlayStation 4 MET...|     Video Games|          1|           34|        116|   N|                N|      F*** this S***|Who in the hell w...| 2015-08-30|\n",
            "|         US|    3407493|R2OWDAR0EDEPTF|B00W435BU0|     487294121|       Madden NFL 16|     Video Games|          1|           23|         28|   N|                N|Same game differe...|Sick of each mono...| 2015-08-29|\n",
            "|         US|    4679582|R3CICXKAHN6NUD|B00WTI3JPE|      82806212|The Witcher 3: Wi...|     Video Games|          1|            0|         23|   N|                Y|It would be great...|It would be great...| 2015-08-29|\n",
            "|         US|   14073759|R29BOS5HMAY1LO|B00W435BL4|     281495895|Madden NFL 16 - P...|     Video Games|          5|           88|        110|   N|                N|The wife will nev...|This game is grea...| 2015-08-29|\n",
            "|         US|   52542000| R8WD0136CETA7|B00W435BU0|     487294121|       Madden NFL 16|     Video Games|          2|           99|        119|   N|                N|Same Madden as la...|The same thing pl...| 2015-08-29|\n",
            "+-----------+-----------+--------------+----------+--------------+--------------------+----------------+-----------+-------------+-----------+----+-----------------+--------------------+--------------------+-----------+\n",
            "only showing top 20 rows\n",
            "\n"
          ]
        }
      ]
    },
    {
      "cell_type": "code",
      "metadata": {
        "id": "6QEk2nbcJBbz",
        "colab": {
          "base_uri": "https://localhost:8080/"
        },
        "outputId": "e19bf637-67cc-4912-90fc-344efa52dd59"
      },
      "source": [
        "# Filter for greater than 50% helpful vote percentage\n",
        "cleaned_df = df.filter(col(\"helpful_votes\")  >=50)\n",
        "cleaned_df.show()"
      ],
      "execution_count": 8,
      "outputs": [
        {
          "output_type": "stream",
          "name": "stdout",
          "text": [
            "+-----------+-----------+--------------+----------+--------------+--------------------+----------------+-----------+-------------+-----------+----+-----------------+--------------------+--------------------+-----------+\n",
            "|marketplace|customer_id|     review_id|product_id|product_parent|       product_title|product_category|star_rating|helpful_votes|total_votes|vine|verified_purchase|     review_headline|         review_body|review_date|\n",
            "+-----------+-----------+--------------+----------+--------------+--------------------+----------------+-----------+-------------+-----------+----+-----------------+--------------------+--------------------+-----------+\n",
            "|         US|   34170274|R127WEQY2FM1T3|B00W435BU0|     487294121|       Madden NFL 16|     Video Games|          1|          147|        175|   N|                Y|Hot Mess. Don't Buy.|This is an absolu...| 2015-08-31|\n",
            "|         US|   37932477|R2FJ94555FZH32|B00WJ0Z194|     116945357|Infinity 3.0 Star...|     Video Games|          2|           55|         60|   N|                N|Some improvements...|While Infinity 3....| 2015-08-31|\n",
            "|         US|   45782027|R1U3AR67RE273L|B00W435C0Y|     406569386|       Madden NFL 16|     Video Games|          1|           51|         65|   N|                Y|CAN'T PLAY - NO E...|I've owned a vers...| 2015-08-31|\n",
            "|         US|   38235948|R10LZVBLQHBVJ0|B00KAI3KW2|     289195641|Microsoft Xbox On...|     Video Games|          2|          151|        198|   N|                N| What an experience!|When I open a pro...| 2015-08-30|\n",
            "|         US|   14073759|R29BOS5HMAY1LO|B00W435BL4|     281495895|Madden NFL 16 - P...|     Video Games|          5|           88|        110|   N|                N|The wife will nev...|This game is grea...| 2015-08-29|\n",
            "|         US|   52542000| R8WD0136CETA7|B00W435BU0|     487294121|       Madden NFL 16|     Video Games|          2|           99|        119|   N|                N|Same Madden as la...|The same thing pl...| 2015-08-29|\n",
            "|         US|   30943085|R1LXBPG1M9DDOC|B0138CZY9S|     154182641|     Google Play $10|     Video Games|          1|          102|        106|   N|                N|    Not a chance bro|This is just a st...| 2015-08-29|\n",
            "|         US|   18106383| R5ZMK0Y0KRBRZ|B00W435CPY|     889404124|       Madden NFL 16|     Video Games|          1|           79|         91|   N|                N|Should not be $60!!!|Same as last year...| 2015-08-28|\n",
            "|         US|   18656586| R4HTDKN4IZD7J|B00HVBPRUO|     512137293|PlayStation Headsets|     Video Games|          1|          150|        172|   N|                N|Poor Manufacturin...|Well I'm here to ...| 2015-08-28|\n",
            "|         US|   17058574|R3QEHRKPDDDJ3F|B011L4D30W|     539645461|Xbox One 1TB Cons...|     Video Games|          4|           79|         82|   N|                N|Buying Guide for ...|I wanted to creat...| 2015-08-27|\n",
            "|         US|   17058574|R29OV327V7YZGV|B0118GJKIW|     120888661|Xbox One 500GB Co...|     Video Games|          4|          243|        256|   N|                N|Buying guide for ...|I wanted to creat...| 2015-08-27|\n",
            "|         US|   23853797|R2WS53BH47WUMT|B00ZMBLKPG|     966892383|Gears of War: Ult...|     Video Games|          5|           68|         84|   N|                N|dont believe the ...|I purchased this ...| 2015-08-26|\n",
            "|         US|   37953530|R18ZBSSAMJOV8I|B0118GJKIW|     120888661|Xbox One 500GB Co...|     Video Games|          5|          450|        471|   N|                N|This sku does not...|this is the new m...| 2015-08-26|\n",
            "|         US|   34812274|R3MNCTI3FCVX9O|B00W435BU0|     487294121|       Madden NFL 16|     Video Games|          2|           80|         98|   N|                Y|     Not that great.|Loading times are...| 2015-08-26|\n",
            "|         US|   10862285| RCK4WXLGD3HDY|B00MG654FM|     361586111|Xim 4 Keyboard an...|     Video Games|          5|           72|         81|   N|                Y|        So Worth It!|I was super hesit...| 2015-08-26|\n",
            "|         US|   20363540|R2WPAHM90BCWUN|B00MV7KVP4|      92208606|Until Dawn  - Pla...|     Video Games|          5|          210|        227|   N|                Y|Scary, Compelling...|Chilling, well ac...| 2015-08-25|\n",
            "|         US|   12960251|R2OQWDMRNRQWPK|B00W435BU0|     487294121|       Madden NFL 16|     Video Games|          4|           60|         83|   N|                N|             Effort!|This is the best ...| 2015-08-25|\n",
            "|         US|   22589802|R28VQTB2GEP8VO|B00Y86D9UU|     114172972|eXtremeRate Light...|     Video Games|          1|           56|         60|   N|                Y|Do not properly a...|Do not align prop...| 2015-08-25|\n",
            "|         US|    9102459|R3A0OAIPIIXZS3|B00MV7KVP4|      92208606|Until Dawn  - Pla...|     Video Games|          5|           70|         79|   N|                N|A Brilliant Horro...|Until Dawn is an ...| 2015-08-25|\n",
            "|         US|   10079750| RBLN6QHUYWTSZ|B00W435BL4|     281495895|Madden NFL 16 - P...|     Video Games|          2|           66|         78|   N|                N|Same game...Diffe...|For anyone accust...| 2015-08-25|\n",
            "+-----------+-----------+--------------+----------+--------------+--------------------+----------------+-----------+-------------+-----------+----+-----------------+--------------------+--------------------+-----------+\n",
            "only showing top 20 rows\n",
            "\n"
          ]
        }
      ]
    },
    {
      "cell_type": "markdown",
      "metadata": {
        "id": "AlnzTsVZ4tvT"
      },
      "source": [
        "# Describe Stats"
      ]
    },
    {
      "cell_type": "code",
      "metadata": {
        "id": "R4roMyzgJh29",
        "colab": {
          "base_uri": "https://localhost:8080/"
        },
        "outputId": "bc447764-a0e7-42c1-a9c5-9fbb5720a126"
      },
      "source": [
        "# Paid reviews\n",
        "from pyspark.sql.functions import col, avg\n",
        "paid_df = cleaned_df.filter(cleaned_df['vine']== 'Y')\n",
        "paid_df.describe().show(5)"
      ],
      "execution_count": 17,
      "outputs": [
        {
          "output_type": "stream",
          "name": "stdout",
          "text": [
            "+-------+-----------+--------------------+--------------+----------+-------------------+--------------------+----------------+------------------+------------------+-----------------+----+-----------------+--------------------+--------------------+-----------+\n",
            "|summary|marketplace|         customer_id|     review_id|product_id|     product_parent|       product_title|product_category|       star_rating|     helpful_votes|      total_votes|vine|verified_purchase|     review_headline|         review_body|review_date|\n",
            "+-------+-----------+--------------------+--------------+----------+-------------------+--------------------+----------------+------------------+------------------+-----------------+----+-----------------+--------------------+--------------------+-----------+\n",
            "|  count|         27|                  27|            27|        27|                 27|                  27|              27|                27|                27|               27|  27|               27|                  27|                  27|         27|\n",
            "|   mean|       null| 4.044628674074074E7|          null|      null|5.539206013703704E8|                null|            null| 4.407407407407407|120.33333333333333|131.8148148148148|null|             null|                null|                null|       null|\n",
            "| stddev|       null|1.1745825922888396E7|          null|      null|2.791439269469032E8|                null|            null|0.6360490582953523| 93.39247210644895|97.70719091599736|null|             null|                null|                null|       null|\n",
            "|    min|         US|            11393110|R147GE7N7DBNSK|B0015HYPOO|          157000434|Afterglow Univers...|     Video Games|                 3|               111|              102|   Y|                N|A Nintendo 3DS an...|+ PROS:    + Infi...| 2008-07-11|\n",
            "|    max|         US|            52923654| RYBLWBAL5M1AY|B00YXO5UXG|          945059062|Turtle Beach Ear ...|     Video Games|                 5|                97|               88|   Y|                N|Works Great on th...|[[VIDEOID:moL7MHK...| 2015-08-04|\n",
            "+-------+-----------+--------------------+--------------+----------+-------------------+--------------------+----------------+------------------+------------------+-----------------+----+-----------------+--------------------+--------------------+-----------+\n",
            "\n"
          ]
        }
      ]
    },
    {
      "cell_type": "code",
      "metadata": {
        "colab": {
          "base_uri": "https://localhost:8080/"
        },
        "id": "5ql0Ru8P83Pj",
        "outputId": "baf1a788-35c1-4af1-d1cb-c8d4b870b671"
      },
      "source": [
        "# Summary statistics for VINE CUSTOMERS for star_rating, helpful votes, total votes\n",
        "\n",
        "paid_analysis_df = paid_df.select([\"star_rating\",\"helpful_votes\",\"total_votes\"]).describe()\n",
        "\n",
        "print(\"Summary statistics for VINE CUSTOMERS\")\n",
        "paid_analysis_df.show()"
      ],
      "execution_count": 18,
      "outputs": [
        {
          "output_type": "stream",
          "name": "stdout",
          "text": [
            "Summary statistics for VINE CUSTOMERS\n",
            "+-------+------------------+------------------+-----------------+\n",
            "|summary|       star_rating|     helpful_votes|      total_votes|\n",
            "+-------+------------------+------------------+-----------------+\n",
            "|  count|                27|                27|               27|\n",
            "|   mean| 4.407407407407407|120.33333333333333|131.8148148148148|\n",
            "| stddev|0.6360490582953523| 93.39247210644895|97.70719091599736|\n",
            "|    min|                 3|               111|              102|\n",
            "|    max|                 5|                97|               88|\n",
            "+-------+------------------+------------------+-----------------+\n",
            "\n"
          ]
        }
      ]
    },
    {
      "cell_type": "code",
      "metadata": {
        "colab": {
          "base_uri": "https://localhost:8080/"
        },
        "id": "jFTjz-qx9KcL",
        "outputId": "75b95326-024a-4d8c-a71b-c0763f25ae59"
      },
      "source": [
        "# Top 20 rated products with the Top helpful votes for VINE CUSTOMERS\n",
        "\n",
        "from pyspark.sql.functions import desc\n",
        "\n",
        "vine_helpful_votes_df = paid_analysis_df.orderBy(paid_analysis_df.helpful_votes.desc())\n",
        "vine_helpful_votes_df = vine_helpful_votes_df.filter('star_rating = 5')\n",
        "\n",
        "print(\"Top 20 rated products with the Top helpful votes for VINE CUSTOMERS\")\n",
        "vine_helpful_votes_df.show()"
      ],
      "execution_count": 19,
      "outputs": [
        {
          "output_type": "stream",
          "name": "stdout",
          "text": [
            "Top 20 rated products with the Top helpful votes for VINE CUSTOMERS\n",
            "+-------+-----------+-------------+-----------+\n",
            "|summary|star_rating|helpful_votes|total_votes|\n",
            "+-------+-----------+-------------+-----------+\n",
            "|    max|          5|           97|         88|\n",
            "+-------+-----------+-------------+-----------+\n",
            "\n"
          ]
        }
      ]
    },
    {
      "cell_type": "code",
      "metadata": {
        "colab": {
          "base_uri": "https://localhost:8080/"
        },
        "id": "WKO3uQxs9ju8",
        "outputId": "73e33886-86c9-4dc2-b3cb-c38eff88eae6"
      },
      "source": [
        "# Unpaid reviews\n",
        "unpaid_df = cleaned_df.filter(cleaned_df['vine']== 'N')\n",
        "unpaid_df.describe().show(5)"
      ],
      "execution_count": 22,
      "outputs": [
        {
          "output_type": "stream",
          "name": "stdout",
          "text": [
            "+-------+-----------+--------------------+--------------+------------------+-------------------+--------------------+----------------+-----------------+------------------+------------------+----+-----------------+--------------------+--------------------+-----------+\n",
            "|summary|marketplace|         customer_id|     review_id|        product_id|     product_parent|       product_title|product_category|      star_rating|     helpful_votes|       total_votes|vine|verified_purchase|     review_headline|         review_body|review_date|\n",
            "+-------+-----------+--------------------+--------------+------------------+-------------------+--------------------+----------------+-----------------+------------------+------------------+----+-----------------+--------------------+--------------------+-----------+\n",
            "|  count|       8734|                8734|          8734|              8734|               8734|                8734|            8734|             8734|              8734|              8734|8734|             8734|                8734|                8734|       8734|\n",
            "|   mean|       null|3.6062453398442864E7|          null|   3.59095617225E9|4.909799921364781E8|                null|            null|3.637737577284177|129.16487291046485|147.67643691321274|null|             null|                null|                null|       null|\n",
            "| stddev|       null| 1.452026313427567E7|          null|4.23417141009921E9|2.923540410229106E8|                null|            null|1.555779983254492|235.01549015292247| 254.5195863016123|null|             null|                null|                null|       null|\n",
            "|    min|         US|            10002376|R1005PFAPGMYQS|        006073132X|          100194946|'N Sync Hotline F...|     Video Games|                1|               100|               100|   N|                N|!----This is the ...|! ATTENTION ! Be ...| 1999-11-03|\n",
            "|    max|         US|             9986288| RZZ8UZIVQJKE4|        B013E2KD5M|           99979586|uDraw GameTablet ...|     Video Games|                5|               999|               999|   N|                Y|~30 HOURS IN . . ...|♦ Introduction ♦<...| 2015-08-31|\n",
            "+-------+-----------+--------------------+--------------+------------------+-------------------+--------------------+----------------+-----------------+------------------+------------------+----+-----------------+--------------------+--------------------+-----------+\n",
            "\n"
          ]
        }
      ]
    },
    {
      "cell_type": "code",
      "metadata": {
        "colab": {
          "base_uri": "https://localhost:8080/"
        },
        "id": "MBV5S6tM9CrE",
        "outputId": "0a726077-dcd8-467f-d6f3-8f5a31daf34e"
      },
      "source": [
        "# Summary statistics for NON-VINE CUSTOMERS for star_rating, helpful votes, total votes\n",
        "\n",
        "unpaid_summary_analysis_df = unpaid_df.select([\"star_rating\",\"helpful_votes\",\"total_votes\"]).describe()\n",
        "\n",
        "print(\"Summary statistics for NON-VINE CUSTOMERS\")\n",
        "unpaid_summary_analysis_df.show()"
      ],
      "execution_count": 23,
      "outputs": [
        {
          "output_type": "stream",
          "name": "stdout",
          "text": [
            "Summary statistics for NON-VINE CUSTOMERS\n",
            "+-------+-----------------+------------------+------------------+\n",
            "|summary|      star_rating|     helpful_votes|       total_votes|\n",
            "+-------+-----------------+------------------+------------------+\n",
            "|  count|             8734|              8734|              8734|\n",
            "|   mean|3.637737577284177|129.16487291046485|147.67643691321274|\n",
            "| stddev|1.555779983254492|235.01549015292247| 254.5195863016123|\n",
            "|    min|                1|               100|               100|\n",
            "|    max|                5|               999|               999|\n",
            "+-------+-----------------+------------------+------------------+\n",
            "\n"
          ]
        }
      ]
    },
    {
      "cell_type": "code",
      "metadata": {
        "colab": {
          "base_uri": "https://localhost:8080/"
        },
        "id": "f6PGiBzAEojx",
        "outputId": "e2bd9816-bb69-4a8c-d50a-fee7f824d566"
      },
      "source": [
        "# Top 20 rated products with the Top helpful votes for NON-VINE CUSTOMERS\n",
        "\n",
        "from pyspark.sql.functions import desc\n",
        "\n",
        "non_vine_helpful_votes_df = unpaid_summary_analysis_df.orderBy(unpaid_summary_analysis_df.helpful_votes.desc())\n",
        "non_vine_helpful_votes_df = non_vine_helpful_votes_df.filter('star_rating = 5')\n",
        "\n",
        "print(\"Top 20 rated products with the Top helpful votes for NON-VINE CUSTOMERS\")\n",
        "non_vine_helpful_votes_df.show(20)"
      ],
      "execution_count": 24,
      "outputs": [
        {
          "output_type": "stream",
          "name": "stdout",
          "text": [
            "Top 20 rated products with the Top helpful votes for NON-VINE CUSTOMERS\n",
            "+-------+-----------+-------------+-----------+\n",
            "|summary|star_rating|helpful_votes|total_votes|\n",
            "+-------+-----------+-------------+-----------+\n",
            "|    max|          5|          999|        999|\n",
            "+-------+-----------+-------------+-----------+\n",
            "\n"
          ]
        }
      ]
    },
    {
      "cell_type": "markdown",
      "metadata": {
        "id": "u17ssTQS4xHa"
      },
      "source": [
        "# Determine the percentage of five-star review among vine reviews"
      ]
    },
    {
      "cell_type": "code",
      "metadata": {
        "id": "HSSA2Z1-40QL",
        "colab": {
          "base_uri": "https://localhost:8080/"
        },
        "outputId": "4f4d34c2-9637-4f5e-cb43-c44db92651fb"
      },
      "source": [
        "# CODE HERE\n",
        "paid_five_star_number = paid_df[paid_df['star_rating']== 5].count()\n",
        "paid_number = paid_df.count()\n",
        "percentage_five_star_vine = float(paid_five_star_number) / float(paid_number)\n",
        "\n",
        "print(f'Number of paid reviews {paid_number}')\n",
        "print(f'Number of paid five star reviews {paid_five_star_number}')\n",
        "print(f'Percantage of paid reviews that are five stars {percentage_five_star_vine * 100}%')"
      ],
      "execution_count": 25,
      "outputs": [
        {
          "output_type": "stream",
          "name": "stdout",
          "text": [
            "Number of paid reviews 27\n",
            "Number of paid five star reviews 13\n",
            "Percantage of paid reviews that are five stars 48.148148148148145%\n"
          ]
        }
      ]
    },
    {
      "cell_type": "markdown",
      "metadata": {
        "id": "3L6C5S-K42bm"
      },
      "source": [
        "# Determine the percentage of five-star review among non-Vine reviews"
      ]
    },
    {
      "cell_type": "code",
      "metadata": {
        "id": "93A0BkCt49Vw",
        "colab": {
          "base_uri": "https://localhost:8080/"
        },
        "outputId": "e0d06abe-29e8-4698-db0e-701f2ad250d2"
      },
      "source": [
        "# CODE HERE\n",
        "unpaid_five_star_number = unpaid_df[unpaid_df['star_rating']== 5].count()\n",
        "unpaid_number = unpaid_df.count()\n",
        "percentage_five_star_non_vine = float(unpaid_five_star_number) / float(unpaid_number)\n",
        "\n",
        "print(f'Number of unpaid reviews {unpaid_number}')\n",
        "print(f'Number of unpaid five star reviews {unpaid_five_star_number}')\n",
        "print(f'Percantage of paid reviews that are five stars {percentage_five_star_non_vine * 100}%')"
      ],
      "execution_count": 26,
      "outputs": [
        {
          "output_type": "stream",
          "name": "stdout",
          "text": [
            "Number of unpaid reviews 8734\n",
            "Number of unpaid five star reviews 3942\n",
            "Percantage of paid reviews that are five stars 45.13395923975269%\n"
          ]
        }
      ]
    },
    {
      "cell_type": "code",
      "metadata": {
        "id": "CMoUantcFK0F"
      },
      "source": [
        "#Count of Vine Customers and Non-Vine Customers"
      ],
      "execution_count": 29,
      "outputs": []
    },
    {
      "cell_type": "code",
      "metadata": {
        "id": "EDVIerag8qbt",
        "colab": {
          "base_uri": "https://localhost:8080/"
        },
        "outputId": "f1262cb5-43a2-4e90-e3b2-417d11846c50"
      },
      "source": [
        "vine_customers_df  = paid_df.groupby(\"vine\").agg({\"vine\":\"count\"})\n",
        "vine_customers_df.show()"
      ],
      "execution_count": 31,
      "outputs": [
        {
          "output_type": "stream",
          "name": "stdout",
          "text": [
            "+----+-----------+\n",
            "|vine|count(vine)|\n",
            "+----+-----------+\n",
            "|   Y|         27|\n",
            "+----+-----------+\n",
            "\n"
          ]
        }
      ]
    },
    {
      "cell_type": "code",
      "metadata": {
        "colab": {
          "base_uri": "https://localhost:8080/"
        },
        "id": "YnSmE4iLGBab",
        "outputId": "a2c9a267-0dab-42d8-9e1e-60659f6b8706"
      },
      "source": [
        "#  Count of NON-VINE CUSTOMERS\n",
        "\n",
        "non_vine_customers_df = unpaid_df.groupby(\"vine\").agg({\"vine\":\"count\"})\n",
        "non_vine_customers_df.show()"
      ],
      "execution_count": 32,
      "outputs": [
        {
          "output_type": "stream",
          "name": "stdout",
          "text": [
            "+----+-----------+\n",
            "|vine|count(vine)|\n",
            "+----+-----------+\n",
            "|   N|       8734|\n",
            "+----+-----------+\n",
            "\n"
          ]
        }
      ]
    },
    {
      "cell_type": "code",
      "metadata": {
        "colab": {
          "base_uri": "https://localhost:8080/"
        },
        "id": "fd2iqpV0GGL6",
        "outputId": "76d12c00-2c59-40d9-c941-2cfdab525075"
      },
      "source": [
        "# Combine customer count \n",
        "# Source link: https://sparkbyexamples.com/spark/spark-dataframe-union-and-union-all/\n",
        "\n",
        "total_customers_df = vine_customers_df.unionAll(non_vine_customers_df)\n",
        "total_customers_df = total_customers_df.withColumnRenamed('count(vine)', 'Number of customers')\n",
        "\n",
        "print(\"Number of Vine and Non-Vine customers\")\n",
        "total_customers_df.show()"
      ],
      "execution_count": 33,
      "outputs": [
        {
          "output_type": "stream",
          "name": "stdout",
          "text": [
            "Number of Vine and Non-Vine customers\n",
            "+----+-------------------+\n",
            "|vine|Number of customers|\n",
            "+----+-------------------+\n",
            "|   Y|                 27|\n",
            "|   N|               8734|\n",
            "+----+-------------------+\n",
            "\n"
          ]
        }
      ]
    },
    {
      "cell_type": "code",
      "metadata": {
        "id": "XeT6c6XGGSgo"
      },
      "source": [
        "#Number of Reviews made by the top rated and most helpful VINE CUSTOMERS"
      ],
      "execution_count": 34,
      "outputs": []
    },
    {
      "cell_type": "code",
      "metadata": {
        "id": "m4ySEwBPGVO6"
      },
      "source": [
        ""
      ],
      "execution_count": null,
      "outputs": []
    }
  ]
}