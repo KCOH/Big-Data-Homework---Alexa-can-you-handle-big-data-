{
  "nbformat": 4,
  "nbformat_minor": 0,
  "metadata": {
    "colab": {
      "name": "Copy of level_one_starter_code.ipynb",
      "provenance": [],
      "collapsed_sections": []
    },
    "kernelspec": {
      "display_name": "Python 3",
      "language": "python",
      "name": "python3"
    },
    "language_info": {
      "codemirror_mode": {
        "name": "ipython",
        "version": 3
      },
      "file_extension": ".py",
      "mimetype": "text/x-python",
      "name": "python",
      "nbconvert_exporter": "python",
      "pygments_lexer": "ipython3",
      "version": "3.8.5"
    }
  },
  "cells": [
    {
      "cell_type": "code",
      "metadata": {
        "id": "-8eFW_wl1n39",
        "colab": {
          "base_uri": "https://localhost:8080/"
        },
        "outputId": "d84c7e6b-7131-40e6-de44-b3d0d9a19187"
      },
      "source": [
        "import os\n",
        "# Find the latest version of spark 3.0  from http://www-us.apache.org/dist/spark/ and enter as the spark version\n",
        "# For example:\n",
        "# spark_version = 'spark-3.0.1'\n",
        "spark_version = 'spark-3.0.2'\n",
        "jdk_version = '11'\n",
        "hadoop_version = 'hadoop2.7'\n",
        "\n",
        "# Set Environment Variables\n",
        "os.environ['SPARK_VERSION'] = spark_version\n",
        "os.environ['JDK_VERSION'] = jdk_version\n",
        "os.environ['HADOOP_VERSION'] = hadoop_version\n",
        "os.environ['JAVA_HOME'] = f'/usr/lib/jvm/java-{jdk_version}-openjdk-amd64'\n",
        "os.environ['SPARK_HOME'] = f'/content/{spark_version}-bin-{hadoop_version}'\n",
        "\n",
        "# Update modules and install Spark and Java\n",
        "!apt-get update\n",
        "!apt-get install openjdk-$JDK_VERSION-jdk-headless -qq > /dev/null\n",
        "!wget -q https://archive.apache.org/dist/spark/$SPARK_VERSION/$SPARK_VERSION-bin-$HADOOP_VERSION.tgz\n",
        "!tar xf $SPARK_VERSION-bin-$HADOOP_VERSION.tgz\n",
        "!pip install -q findspark\n",
        "\n",
        "# Start a SparkSession\n",
        "import findspark\n",
        "findspark.init()"
      ],
      "execution_count": null,
      "outputs": [
        {
          "output_type": "stream",
          "name": "stdout",
          "text": [
            "\r0% [Working]\r            \rGet:1 http://security.ubuntu.com/ubuntu bionic-security InRelease [88.7 kB]\n",
            "Get:2 https://cloud.r-project.org/bin/linux/ubuntu bionic-cran40/ InRelease [3,626 B]\n",
            "Get:3 http://ppa.launchpad.net/c2d4u.team/c2d4u4.0+/ubuntu bionic InRelease [15.9 kB]\n",
            "Ign:4 https://developer.download.nvidia.com/compute/cuda/repos/ubuntu1804/x86_64  InRelease\n",
            "Hit:5 http://archive.ubuntu.com/ubuntu bionic InRelease\n",
            "Ign:6 https://developer.download.nvidia.com/compute/machine-learning/repos/ubuntu1804/x86_64  InRelease\n",
            "Get:7 http://archive.ubuntu.com/ubuntu bionic-updates InRelease [88.7 kB]\n",
            "Get:8 https://developer.download.nvidia.com/compute/cuda/repos/ubuntu1804/x86_64  Release [696 B]\n",
            "Hit:9 https://developer.download.nvidia.com/compute/machine-learning/repos/ubuntu1804/x86_64  Release\n",
            "Get:10 https://developer.download.nvidia.com/compute/cuda/repos/ubuntu1804/x86_64  Release.gpg [836 B]\n",
            "Hit:11 http://ppa.launchpad.net/cran/libgit2/ubuntu bionic InRelease\n",
            "Get:12 http://archive.ubuntu.com/ubuntu bionic-backports InRelease [74.6 kB]\n",
            "Hit:13 http://ppa.launchpad.net/deadsnakes/ppa/ubuntu bionic InRelease\n",
            "Hit:14 http://ppa.launchpad.net/graphics-drivers/ppa/ubuntu bionic InRelease\n",
            "Get:15 http://ppa.launchpad.net/c2d4u.team/c2d4u4.0+/ubuntu bionic/main Sources [1,812 kB]\n",
            "Get:17 https://developer.download.nvidia.com/compute/cuda/repos/ubuntu1804/x86_64  Packages [809 kB]\n",
            "Get:18 http://ppa.launchpad.net/c2d4u.team/c2d4u4.0+/ubuntu bionic/main amd64 Packages [928 kB]\n",
            "Get:19 http://archive.ubuntu.com/ubuntu bionic-updates/universe amd64 Packages [2,222 kB]\n",
            "Get:20 http://archive.ubuntu.com/ubuntu bionic-updates/main amd64 Packages [2,867 kB]\n",
            "Fetched 8,911 kB in 4s (2,372 kB/s)\n",
            "Reading package lists... Done\n"
          ]
        }
      ]
    },
    {
      "cell_type": "code",
      "metadata": {
        "id": "BzCrgs0Z1rnw",
        "colab": {
          "base_uri": "https://localhost:8080/"
        },
        "outputId": "67e1a0db-b60a-49ec-ad53-6b525a36b79e"
      },
      "source": [
        "postgresql_java_version = '42.2.9'\n",
        "os.environ['POSTGRESQL_JAVA_VERSION'] = postgresql_java_version\n",
        "!wget https://jdbc.postgresql.org/download/postgresql-$POSTGRESQL_JAVA_VERSION.jar"
      ],
      "execution_count": null,
      "outputs": [
        {
          "output_type": "stream",
          "name": "stdout",
          "text": [
            "--2021-11-23 01:57:46--  https://jdbc.postgresql.org/download/postgresql-42.2.9.jar\n",
            "Resolving jdbc.postgresql.org (jdbc.postgresql.org)... 72.32.157.228, 2001:4800:3e1:1::228\n",
            "Connecting to jdbc.postgresql.org (jdbc.postgresql.org)|72.32.157.228|:443... connected.\n",
            "HTTP request sent, awaiting response... 200 OK\n",
            "Length: 914037 (893K) [application/java-archive]\n",
            "Saving to: ‘postgresql-42.2.9.jar’\n",
            "\n",
            "postgresql-42.2.9.j 100%[===================>] 892.61K  2.23MB/s    in 0.4s    \n",
            "\n",
            "2021-11-23 01:57:47 (2.23 MB/s) - ‘postgresql-42.2.9.jar’ saved [914037/914037]\n",
            "\n"
          ]
        }
      ]
    },
    {
      "cell_type": "code",
      "metadata": {
        "id": "0DuBth0V2PR8"
      },
      "source": [
        "from pyspark.sql import SparkSession\n",
        "spark = SparkSession.builder.appName(\"Level-One-Starter-Code\").config(\n",
        "    \"spark.driver.extraClassPath\",\n",
        "    f\"/content/postgresql-{postgresql_java_version}.jar\"\n",
        "  ).getOrCreate()"
      ],
      "execution_count": null,
      "outputs": []
    },
    {
      "cell_type": "markdown",
      "metadata": {
        "id": "D3W2XJVi2CU-"
      },
      "source": [
        "# Load Amazon Data into Spark DataFrame"
      ]
    },
    {
      "cell_type": "code",
      "metadata": {
        "id": "Na_stw7b1wfU",
        "colab": {
          "base_uri": "https://localhost:8080/"
        },
        "outputId": "a750bb4f-0c5f-4c28-96a2-2658789d56e3"
      },
      "source": [
        "from pyspark import SparkFiles\n",
        "raw_data_file = \"amazon_reviews_us_Video_Games_v1_00.tsv.gz\"\n",
        "url = \"https://s3.amazonaws.com/amazon-reviews-pds/tsv/\" + raw_data_file\n",
        "spark.sparkContext.addFile(url)\n",
        "# Read and show the data\n",
        "df = spark.read.csv(SparkFiles.get(\"amazon_reviews_us_Video_Games_v1_00.tsv.gz\"), sep=\"\\t\", header=True)\n",
        "\n",
        "df.show(5)"
      ],
      "execution_count": null,
      "outputs": [
        {
          "output_type": "stream",
          "name": "stdout",
          "text": [
            "+-----------+-----------+--------------+----------+--------------+--------------------+----------------+-----------+-------------+-----------+----+-----------------+--------------------+--------------------+-----------+\n",
            "|marketplace|customer_id|     review_id|product_id|product_parent|       product_title|product_category|star_rating|helpful_votes|total_votes|vine|verified_purchase|     review_headline|         review_body|review_date|\n",
            "+-----------+-----------+--------------+----------+--------------+--------------------+----------------+-----------+-------------+-----------+----+-----------------+--------------------+--------------------+-----------+\n",
            "|         US|   12039526| RTIS3L2M1F5SM|B001CXYMFS|     737716809|Thrustmaster T-Fl...|     Video Games|          5|            0|          0|   N|                Y|an amazing joysti...|Used this for Eli...| 2015-08-31|\n",
            "|         US|    9636577| R1ZV7R40OLHKD|B00M920ND6|     569686175|Tonsee 6 buttons ...|     Video Games|          5|            0|          0|   N|                Y|Definitely a sile...|Loved it,  I didn...| 2015-08-31|\n",
            "|         US|    2331478|R3BH071QLH8QMC|B0029CSOD2|      98937668|Hidden Mysteries:...|     Video Games|          1|            0|          1|   N|                Y|            One Star|poor quality work...| 2015-08-31|\n",
            "|         US|   52495923|R127K9NTSXA2YH|B00GOOSV98|      23143350|GelTabz Performan...|     Video Games|          3|            0|          0|   N|                Y|good, but could b...|nice, but tend to...| 2015-08-31|\n",
            "|         US|   14533949|R32ZWUXDJPW27Q|B00Y074JOM|     821342511|Zero Suit Samus a...|     Video Games|          4|            0|          0|   N|                Y|   Great but flawed.|Great amiibo, gre...| 2015-08-31|\n",
            "+-----------+-----------+--------------+----------+--------------+--------------------+----------------+-----------+-------------+-----------+----+-----------------+--------------------+--------------------+-----------+\n",
            "only showing top 5 rows\n",
            "\n"
          ]
        }
      ]
    },
    {
      "cell_type": "code",
      "metadata": {
        "id": "Cayz-3Q52IM3",
        "colab": {
          "base_uri": "https://localhost:8080/"
        },
        "outputId": "1a5f0316-9aa8-491d-e9ee-73188e9e176a"
      },
      "source": [
        "# What is the size of Data?\n",
        "df.count()"
      ],
      "execution_count": null,
      "outputs": [
        {
          "output_type": "execute_result",
          "data": {
            "text/plain": [
              "1785997"
            ]
          },
          "metadata": {},
          "execution_count": 8
        }
      ]
    },
    {
      "cell_type": "markdown",
      "metadata": {
        "id": "C9U0rkGZ2eu7"
      },
      "source": [
        "# Cleaned up DataFrames to match tables"
      ]
    },
    {
      "cell_type": "code",
      "metadata": {
        "id": "2tMYkSIk2d-m",
        "colab": {
          "base_uri": "https://localhost:8080/"
        },
        "outputId": "4905fd3f-347b-42ab-bdef-d34d02ebf4b6"
      },
      "source": [
        "from pyspark.sql.functions import to_date\n",
        "# Review DataFrame\n",
        "df = df.dropna()\n",
        "df.show(5)"
      ],
      "execution_count": null,
      "outputs": [
        {
          "output_type": "stream",
          "name": "stdout",
          "text": [
            "+-----------+-----------+--------------+----------+--------------+--------------------+----------------+-----------+-------------+-----------+----+-----------------+--------------------+--------------------+-----------+\n",
            "|marketplace|customer_id|     review_id|product_id|product_parent|       product_title|product_category|star_rating|helpful_votes|total_votes|vine|verified_purchase|     review_headline|         review_body|review_date|\n",
            "+-----------+-----------+--------------+----------+--------------+--------------------+----------------+-----------+-------------+-----------+----+-----------------+--------------------+--------------------+-----------+\n",
            "|         US|   12039526| RTIS3L2M1F5SM|B001CXYMFS|     737716809|Thrustmaster T-Fl...|     Video Games|          5|            0|          0|   N|                Y|an amazing joysti...|Used this for Eli...| 2015-08-31|\n",
            "|         US|    9636577| R1ZV7R40OLHKD|B00M920ND6|     569686175|Tonsee 6 buttons ...|     Video Games|          5|            0|          0|   N|                Y|Definitely a sile...|Loved it,  I didn...| 2015-08-31|\n",
            "|         US|    2331478|R3BH071QLH8QMC|B0029CSOD2|      98937668|Hidden Mysteries:...|     Video Games|          1|            0|          1|   N|                Y|            One Star|poor quality work...| 2015-08-31|\n",
            "|         US|   52495923|R127K9NTSXA2YH|B00GOOSV98|      23143350|GelTabz Performan...|     Video Games|          3|            0|          0|   N|                Y|good, but could b...|nice, but tend to...| 2015-08-31|\n",
            "|         US|   14533949|R32ZWUXDJPW27Q|B00Y074JOM|     821342511|Zero Suit Samus a...|     Video Games|          4|            0|          0|   N|                Y|   Great but flawed.|Great amiibo, gre...| 2015-08-31|\n",
            "+-----------+-----------+--------------+----------+--------------+--------------------+----------------+-----------+-------------+-----------+----+-----------------+--------------------+--------------------+-----------+\n",
            "only showing top 5 rows\n",
            "\n"
          ]
        }
      ]
    },
    {
      "cell_type": "code",
      "metadata": {
        "colab": {
          "base_uri": "https://localhost:8080/"
        },
        "id": "jYB_ALTOhuJR",
        "outputId": "dae243a9-d1a4-4176-9faf-a601f1f7c1bf"
      },
      "source": [
        "df.count()"
      ],
      "execution_count": null,
      "outputs": [
        {
          "output_type": "execute_result",
          "data": {
            "text/plain": [
              "1785886"
            ]
          },
          "metadata": {},
          "execution_count": 10
        }
      ]
    },
    {
      "cell_type": "code",
      "metadata": {
        "colab": {
          "base_uri": "https://localhost:8080/"
        },
        "id": "26bXSgR1h31O",
        "outputId": "e76c9093-fb75-4ea2-b9c3-6dd4b7e0f120"
      },
      "source": [
        "df.printSchema()"
      ],
      "execution_count": null,
      "outputs": [
        {
          "output_type": "stream",
          "name": "stdout",
          "text": [
            "root\n",
            " |-- marketplace: string (nullable = true)\n",
            " |-- customer_id: string (nullable = true)\n",
            " |-- review_id: string (nullable = true)\n",
            " |-- product_id: string (nullable = true)\n",
            " |-- product_parent: string (nullable = true)\n",
            " |-- product_title: string (nullable = true)\n",
            " |-- product_category: string (nullable = true)\n",
            " |-- star_rating: string (nullable = true)\n",
            " |-- helpful_votes: string (nullable = true)\n",
            " |-- total_votes: string (nullable = true)\n",
            " |-- vine: string (nullable = true)\n",
            " |-- verified_purchase: string (nullable = true)\n",
            " |-- review_headline: string (nullable = true)\n",
            " |-- review_body: string (nullable = true)\n",
            " |-- review_date: string (nullable = true)\n",
            "\n"
          ]
        }
      ]
    },
    {
      "cell_type": "markdown",
      "metadata": {
        "id": "I8aTsEjZ2s6L"
      },
      "source": [
        "# Push to AWS RDS instance"
      ]
    },
    {
      "cell_type": "code",
      "metadata": {
        "id": "W4dzUKfI2vXM"
      },
      "source": [
        "mode = \"append\"\n",
        "jdbc_url = \"jdbc:postgresql://mypostgresdb.ctsa3tlloc4f.us-east-2.rds.amazonaws.com:5432/my_data_class_db\"\n",
        "config = {\n",
        "    \"user\" : \"root\", \n",
        "    \"password\" : \" \",\n",
        "    \"driver\" : \"org.postgresql.Driver\"\n",
        "}"
      ],
      "execution_count": null,
      "outputs": []
    },
    {
      "cell_type": "code",
      "metadata": {
        "id": "iOxKqMsD2yVs",
        "colab": {
          "base_uri": "https://localhost:8080/"
        },
        "outputId": "17b08517-0ad2-4230-90d5-53c23728ee13"
      },
      "source": [
        "# Write review_id_df to table in RDS\n",
        "review_id_df =df.select([\"review_id\", \"customer_id\", \"product_id\", \"product_parent\", \"review_date\"])\n",
        "review_id_df.show(5)"
      ],
      "execution_count": null,
      "outputs": [
        {
          "output_type": "stream",
          "name": "stdout",
          "text": [
            "+--------------+-----------+----------+--------------+-----------+\n",
            "|     review_id|customer_id|product_id|product_parent|review_date|\n",
            "+--------------+-----------+----------+--------------+-----------+\n",
            "| RTIS3L2M1F5SM|   12039526|B001CXYMFS|     737716809| 2015-08-31|\n",
            "| R1ZV7R40OLHKD|    9636577|B00M920ND6|     569686175| 2015-08-31|\n",
            "|R3BH071QLH8QMC|    2331478|B0029CSOD2|      98937668| 2015-08-31|\n",
            "|R127K9NTSXA2YH|   52495923|B00GOOSV98|      23143350| 2015-08-31|\n",
            "|R32ZWUXDJPW27Q|   14533949|B00Y074JOM|     821342511| 2015-08-31|\n",
            "+--------------+-----------+----------+--------------+-----------+\n",
            "only showing top 5 rows\n",
            "\n"
          ]
        }
      ]
    },
    {
      "cell_type": "code",
      "metadata": {
        "id": "p558LSMDjNLF"
      },
      "source": [
        "review_id_df = review_id_df.dropDuplicates([\"review_id\"])"
      ],
      "execution_count": null,
      "outputs": []
    },
    {
      "cell_type": "code",
      "metadata": {
        "colab": {
          "base_uri": "https://localhost:8080/"
        },
        "id": "XAegxyL1jRw9",
        "outputId": "c652ccfe-ab8e-43ab-9ea8-2a3e535f1474"
      },
      "source": [
        "from pyspark.sql.types import * \n",
        "\n",
        "review_id_df = review_id_df.withColumn(\"customer_id\",review_id_df[\"customer_id\"].cast(IntegerType()))\\\n",
        "    .withColumn(\"product_parent\",review_id_df[\"product_parent\"].cast(IntegerType()))\\\n",
        "    .withColumn(\"review_date\",review_id_df[\"review_date\"].cast(DateType()))\n",
        "\n",
        "review_id_df.printSchema()"
      ],
      "execution_count": null,
      "outputs": [
        {
          "output_type": "stream",
          "name": "stdout",
          "text": [
            "root\n",
            " |-- review_id: string (nullable = true)\n",
            " |-- customer_id: integer (nullable = true)\n",
            " |-- product_id: string (nullable = true)\n",
            " |-- product_parent: integer (nullable = true)\n",
            " |-- review_date: date (nullable = true)\n",
            "\n"
          ]
        }
      ]
    },
    {
      "cell_type": "code",
      "metadata": {
        "id": "T6iHdBeMlTIO"
      },
      "source": [
        "review_id_df.write.jdbc(url=jdbc_url, table=\"review_id_table\", mode=mode, properties=config)"
      ],
      "execution_count": null,
      "outputs": []
    },
    {
      "cell_type": "code",
      "metadata": {
        "id": "pPXyGVE-2yPJ",
        "colab": {
          "base_uri": "https://localhost:8080/"
        },
        "outputId": "76cd28d9-e15a-4058-916c-84aebd54dbb4"
      },
      "source": [
        "# Write products_df to table in RDS\n",
        "products_df = df.select([\"product_id\", \"product_title\"])\n",
        "products_df.show(5)"
      ],
      "execution_count": null,
      "outputs": [
        {
          "output_type": "stream",
          "name": "stdout",
          "text": [
            "+----------+--------------------+\n",
            "|product_id|       product_title|\n",
            "+----------+--------------------+\n",
            "|B001CXYMFS|Thrustmaster T-Fl...|\n",
            "|B00M920ND6|Tonsee 6 buttons ...|\n",
            "|B0029CSOD2|Hidden Mysteries:...|\n",
            "|B00GOOSV98|GelTabz Performan...|\n",
            "|B00Y074JOM|Zero Suit Samus a...|\n",
            "+----------+--------------------+\n",
            "only showing top 5 rows\n",
            "\n"
          ]
        }
      ]
    },
    {
      "cell_type": "code",
      "metadata": {
        "id": "YRLdQ_Byjp6M"
      },
      "source": [
        "products_df = products_df.dropDuplicates([\"product_id\"])"
      ],
      "execution_count": null,
      "outputs": []
    },
    {
      "cell_type": "code",
      "metadata": {
        "colab": {
          "base_uri": "https://localhost:8080/"
        },
        "id": "-kQgF2--js3D",
        "outputId": "9adf7ce9-0580-4b6a-e95e-7c257cefff8f"
      },
      "source": [
        "products_df.printSchema()"
      ],
      "execution_count": null,
      "outputs": [
        {
          "output_type": "stream",
          "name": "stdout",
          "text": [
            "root\n",
            " |-- product_id: string (nullable = true)\n",
            " |-- product_title: string (nullable = true)\n",
            "\n"
          ]
        }
      ]
    },
    {
      "cell_type": "code",
      "metadata": {
        "id": "PDzwMTXNlNIT"
      },
      "source": [
        "products_df.write.jdbc(url=jdbc_url, table=\"products\", mode=mode, properties=config)"
      ],
      "execution_count": null,
      "outputs": []
    },
    {
      "cell_type": "code",
      "metadata": {
        "id": "aHbca4zN2yIa",
        "colab": {
          "base_uri": "https://localhost:8080/"
        },
        "outputId": "3fc3f45e-f1be-40c3-af15-8431b39ea512"
      },
      "source": [
        "# Write customers_df to table in RDS\n",
        "customers_df = df.select([\"customer_id\"])\n",
        "customers_df.show(5)"
      ],
      "execution_count": null,
      "outputs": [
        {
          "output_type": "stream",
          "name": "stdout",
          "text": [
            "+-----------+\n",
            "|customer_id|\n",
            "+-----------+\n",
            "|   12039526|\n",
            "|    9636577|\n",
            "|    2331478|\n",
            "|   52495923|\n",
            "|   14533949|\n",
            "+-----------+\n",
            "only showing top 5 rows\n",
            "\n"
          ]
        }
      ]
    },
    {
      "cell_type": "code",
      "metadata": {
        "id": "IP6rsTyIkRrR"
      },
      "source": [
        "customers_df = customers_df.dropDuplicates([\"customer_id\"])"
      ],
      "execution_count": null,
      "outputs": []
    },
    {
      "cell_type": "code",
      "metadata": {
        "colab": {
          "base_uri": "https://localhost:8080/"
        },
        "id": "Yk6uhh6lkeLK",
        "outputId": "4da99631-7151-448a-c34a-e4a6de036e53"
      },
      "source": [
        "customers_df.printSchema()"
      ],
      "execution_count": null,
      "outputs": [
        {
          "output_type": "stream",
          "name": "stdout",
          "text": [
            "root\n",
            " |-- customer_id: string (nullable = true)\n",
            "\n"
          ]
        }
      ]
    },
    {
      "cell_type": "code",
      "metadata": {
        "id": "pHAN8gFYlHLi"
      },
      "source": [
        "customers_df.write.jdbc(url=jdbc_url, table=\"customers\", mode=mode, properties=config)"
      ],
      "execution_count": null,
      "outputs": []
    },
    {
      "cell_type": "code",
      "metadata": {
        "id": "2HfOFneW2x_F",
        "colab": {
          "base_uri": "https://localhost:8080/"
        },
        "outputId": "418beb51-603b-4bea-c2cb-67080e861edc"
      },
      "source": [
        "# Write vine_df to table in RDS\n",
        "vine_df = df.select([\"review_id\",\"star_rating\", \"helpful_votes\", \"total_votes\", \"vine\"])\n",
        "vine_df.show(5)"
      ],
      "execution_count": null,
      "outputs": [
        {
          "output_type": "stream",
          "name": "stdout",
          "text": [
            "+--------------+-----------+-------------+-----------+----+\n",
            "|     review_id|star_rating|helpful_votes|total_votes|vine|\n",
            "+--------------+-----------+-------------+-----------+----+\n",
            "| RTIS3L2M1F5SM|          5|            0|          0|   N|\n",
            "| R1ZV7R40OLHKD|          5|            0|          0|   N|\n",
            "|R3BH071QLH8QMC|          1|            0|          1|   N|\n",
            "|R127K9NTSXA2YH|          3|            0|          0|   N|\n",
            "|R32ZWUXDJPW27Q|          4|            0|          0|   N|\n",
            "+--------------+-----------+-------------+-----------+----+\n",
            "only showing top 5 rows\n",
            "\n"
          ]
        }
      ]
    },
    {
      "cell_type": "code",
      "metadata": {
        "id": "jmHBjhjxkl2F"
      },
      "source": [
        "vine_df = vine_df.dropDuplicates([\"review_id\"])"
      ],
      "execution_count": null,
      "outputs": []
    },
    {
      "cell_type": "code",
      "metadata": {
        "colab": {
          "base_uri": "https://localhost:8080/"
        },
        "id": "1KCqjeV2k2Vt",
        "outputId": "d0ad6605-6775-4417-a373-41525833190a"
      },
      "source": [
        "vine_df = vine_df.withColumn(\"star_rating\",vine_df[\"star_rating\"].cast(IntegerType()))\\\n",
        "    .withColumn(\"helpful_votes\",vine_df[\"helpful_votes\"].cast(IntegerType()))\\\n",
        "    .withColumn(\"total_votes\",vine_df[\"total_votes\"].cast(IntegerType()))\n",
        "\n",
        "vine_df.printSchema()"
      ],
      "execution_count": null,
      "outputs": [
        {
          "output_type": "stream",
          "name": "stdout",
          "text": [
            "root\n",
            " |-- review_id: string (nullable = true)\n",
            " |-- star_rating: integer (nullable = true)\n",
            " |-- helpful_votes: integer (nullable = true)\n",
            " |-- total_votes: integer (nullable = true)\n",
            " |-- vine: string (nullable = true)\n",
            "\n"
          ]
        }
      ]
    },
    {
      "cell_type": "code",
      "metadata": {
        "id": "vAIWiDvbk3Cc"
      },
      "source": [
        "vine_df.write.jdbc(url=jdbc_url, table=\"vine_table\", mode=mode, properties=config)"
      ],
      "execution_count": null,
      "outputs": []
    },
    {
      "cell_type": "code",
      "metadata": {
        "id": "35GzcTA5kykQ"
      },
      "source": [
        ""
      ],
      "execution_count": null,
      "outputs": []
    }
  ]
}